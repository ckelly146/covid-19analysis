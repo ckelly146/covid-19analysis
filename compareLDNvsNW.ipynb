{
 "cells": [
  {
   "cell_type": "markdown",
   "metadata": {},
   "source": [
    "DIY Covid-19 Dashboard - London and North West regions\n",
    "\n",
    "- Data from Public Health England (PHE) on Covid-19\n",
    "\n",
    "There are 2 sections of data for each region:\n",
    "\n",
    "- Part 1 looks at overall cases, hospital cases requiring ventilator support and deaths.\n",
    "\n",
    "- Part 2 looks at how age and gender affect cases.\n",
    "\n",
    "(This has been repeated for the North West of England region for comparison.)"
   ]
  },
  {
   "cell_type": "markdown",
   "metadata": {},
   "source": [
    "# Cases"
   ]
  },
  {
   "cell_type": "code",
   "execution_count": 5,
   "metadata": {},
   "outputs": [
    {
     "data": {
      "application/vnd.jupyter.widget-view+json": {
       "model_id": "57fa09084d4e4ff28dd61c483c2e2247",
       "version_major": 2,
       "version_minor": 0
      },
      "text/plain": [
       "Button(description='Refresh data', icon='Download', style=ButtonStyle(), tooltip='Download current Public Heal…"
      ]
     },
     "metadata": {},
     "output_type": "display_data"
    },
    {
     "name": "stdout",
     "output_type": "stream",
     "text": [
      "London Covid-19 Cases and Deaths 2020\n"
     ]
    },
    {
     "data": {
      "application/vnd.jupyter.widget-view+json": {
       "model_id": "aa4a48cdbb7c4fc4807a84f0d6f8acfd",
       "version_major": 2,
       "version_minor": 0
      },
      "text/plain": [
       "HBox(children=(SelectMultiple(description='Stats:', index=(0, 1, 2), options=('Cases', 'Ventilators', 'Deaths'…"
      ]
     },
     "metadata": {},
     "output_type": "display_data"
    },
    {
     "data": {
      "application/vnd.jupyter.widget-view+json": {
       "model_id": "6d0437ec69454975bb8940b06b19964f",
       "version_major": 2,
       "version_minor": 0
      },
      "text/plain": [
       "Output()"
      ]
     },
     "metadata": {},
     "output_type": "display_data"
    }
   ],
   "source": [
    "# LONDON\n",
    "\n",
    "import pandas as pd\n",
    "import matplotlib.pyplot as plt\n",
    "import json\n",
    "\n",
    "# an iPython  \"magic\" that enables embedding of matplotlib output\n",
    "%matplotlib inline\n",
    "\n",
    "# make figures larger\n",
    "plt.rcParams['figure.dpi'] = 100\n",
    "\n",
    "# opens national data to read\n",
    "with open(\"London.json\", \"rt\") as INFILE:\n",
    "    data=json.load(INFILE)\n",
    "    \n",
    "datalist=data['data']\n",
    "\n",
    "# sorts dates of data\n",
    "dates=[dictionary['date'] for dictionary in datalist ]\n",
    "dates.sort()\n",
    "\n",
    "def parse_date(datestring):\n",
    "    \"\"\" Convert a date string into a pandas datetime object \"\"\"\n",
    "    return pd.to_datetime(datestring, format=\"%Y-%m-%d\")\n",
    "\n",
    "# produces startdata to enddata: 2020-02-11 00:00:00  to  2020-10-21 00:00:00\n",
    "startdate=parse_date(dates[0])\n",
    "enddate=parse_date(dates[-1])\n",
    "\n",
    "# creates a template for data from start date to end date\n",
    "index=pd.date_range(startdate, enddate, freq='D')\n",
    "Londondf=pd.DataFrame(index=index, columns=['Cases', 'Ventilators', 'Deaths'])\n",
    "\n",
    "# inputs data\n",
    "\n",
    "for entry in datalist: # each entry is a dictionary with date, cases, ventilator cases and deaths\n",
    "    date=parse_date(entry['date'])\n",
    "    for column in ['Cases', 'Ventilators', 'Deaths']:\n",
    "        if pd.isna(Londondf.loc[date, column]): \n",
    "            value= float(entry[column]) if entry[column]!=None else 0.0 # replace None with 0 in our data \n",
    "            # and put index,column in a single set of [ ]\n",
    "            Londondf.loc[date, column]=value #.loc accesses a specific location in the dataframe\n",
    "            \n",
    "# fills in any remaining gaps due to missing dates\n",
    "Londondf.fillna(0.0, inplace=True)\n",
    "\n",
    "import ipywidgets as wdg\n",
    "import pandas as pd\n",
    "import matplotlib.pyplot as plt\n",
    "\n",
    "# API access function to download current Public Health England data\n",
    "def access_api(button): \n",
    "    print(\"Downloading data from the API...\")\n",
    "    print(\"...complete.\")\n",
    "       \n",
    "apibutton=wdg.Button(\n",
    "    description='Refresh data',\n",
    "    disabled=False,\n",
    "    button_style='',\n",
    "    tooltip='Download current Public Health England data here',\n",
    "    icon='Download'\n",
    ")\n",
    "\n",
    "# register callback function with the button\n",
    "apibutton.on_click(access_api)\n",
    "\n",
    "# display the widgets\n",
    "display(apibutton)\n",
    "\n",
    "# creates interactive graph\n",
    "\n",
    "print(\"London Covid-19 Cases and Deaths 2020\")\n",
    "series=wdg.SelectMultiple(\n",
    "    options=['Cases', 'Ventilators', 'Deaths'],\n",
    "    value=['Cases', 'Ventilators', 'Deaths'],\n",
    "    rows=3,\n",
    "    description='Stats:',\n",
    "    disabled=False\n",
    ")\n",
    "\n",
    "scale=wdg.RadioButtons(\n",
    "    options=['linear', 'log'],\n",
    "    description='Scale:',\n",
    "    disabled=False\n",
    ")\n",
    "\n",
    "controls=wdg.HBox([series, scale])\n",
    "\n",
    "def timeseries_graph(gcols, gscale):\n",
    "    if gscale=='linear':\n",
    "        logscale=False\n",
    "    else:\n",
    "        logscale=True\n",
    "    ncols=len(gcols)\n",
    "    if ncols>0:\n",
    "        Londondf[list(gcols)].plot(logy=logscale)\n",
    "    else:\n",
    "        print(\"Click to select data for graph\")\n",
    "        print(\"(CTRL-Click to select more than one category)\")\n",
    "\n",
    "graph=wdg.interactive_output(timeseries_graph, {'gcols': series, 'gscale': scale})\n",
    "\n",
    "display(controls, graph)"
   ]
  },
  {
   "cell_type": "code",
   "execution_count": 6,
   "metadata": {},
   "outputs": [
    {
     "data": {
      "application/vnd.jupyter.widget-view+json": {
       "model_id": "c46897cbd2c34246b5eaecfa10e732ff",
       "version_major": 2,
       "version_minor": 0
      },
      "text/plain": [
       "Button(description='Refresh data', icon='Download', style=ButtonStyle(), tooltip='Download current Public Heal…"
      ]
     },
     "metadata": {},
     "output_type": "display_data"
    },
    {
     "name": "stdout",
     "output_type": "stream",
     "text": [
      "North West Covid-19 Cases and Deaths 2020\n"
     ]
    },
    {
     "data": {
      "application/vnd.jupyter.widget-view+json": {
       "model_id": "4fce85d28c3e42d8aa52856fe4a2879a",
       "version_major": 2,
       "version_minor": 0
      },
      "text/plain": [
       "HBox(children=(SelectMultiple(description='Stats:', index=(0, 1, 2), options=('Cases', 'Ventilators', 'Deaths'…"
      ]
     },
     "metadata": {},
     "output_type": "display_data"
    },
    {
     "data": {
      "application/vnd.jupyter.widget-view+json": {
       "model_id": "56e69339973a4808a974667186918d85",
       "version_major": 2,
       "version_minor": 0
      },
      "text/plain": [
       "Output()"
      ]
     },
     "metadata": {},
     "output_type": "display_data"
    }
   ],
   "source": [
    "# NW\n",
    "\n",
    "import pandas as pd\n",
    "import matplotlib.pyplot as plt\n",
    "import json\n",
    "\n",
    "# an iPython  \"magic\" that enables embedding of matplotlib output\n",
    "%matplotlib inline\n",
    "\n",
    "# make figures larger\n",
    "plt.rcParams['figure.dpi'] = 100\n",
    "\n",
    "# opens national data to read\n",
    "with open(\"NW.json\", \"rt\") as INFILE:\n",
    "    data=json.load(INFILE)\n",
    "    \n",
    "datalist=data['data']\n",
    "\n",
    "# sorts dates of data\n",
    "dates=[dictionary['date'] for dictionary in datalist ]\n",
    "dates.sort()\n",
    "\n",
    "def parse_date(datestring):\n",
    "    \"\"\" Convert a date string into a pandas datetime object \"\"\"\n",
    "    return pd.to_datetime(datestring, format=\"%Y-%m-%d\")\n",
    "\n",
    "# produces startdata to enddata: 2020-02-11 00:00:00  to  2020-10-21 00:00:00\n",
    "startdate=parse_date(dates[0])\n",
    "enddate=parse_date(dates[-1])\n",
    "\n",
    "# creates a template for data from start date to end date\n",
    "index=pd.date_range(startdate, enddate, freq='D')\n",
    "NWdf=pd.DataFrame(index=index, columns=['Cases', 'Ventilators', 'Deaths'])\n",
    "\n",
    "# inputs data\n",
    "\n",
    "for entry in datalist: # each entry is a dictionary with date, cases, ventilator cases and deaths\n",
    "    date=parse_date(entry['date'])\n",
    "    for column in ['Cases', 'Ventilators', 'Deaths']:\n",
    "        if pd.isna(NWdf.loc[date, column]): \n",
    "            value= float(entry[column]) if entry[column]!=None else 0.0 # replace None with 0 in our data \n",
    "            # and put index,column in a single set of [ ]\n",
    "            NWdf.loc[date, column]=value #.loc accesses a specific location in the dataframe\n",
    "            \n",
    "# fills in any remaining gaps due to missing dates\n",
    "NWdf.fillna(0.0, inplace=True)\n",
    "\n",
    "import ipywidgets as wdg\n",
    "import pandas as pd\n",
    "import matplotlib.pyplot as plt\n",
    "\n",
    "# creates interactive graph\n",
    "\n",
    "print(\"North West Covid-19 Cases and Deaths 2020\")\n",
    "series=wdg.SelectMultiple(\n",
    "    options=['Cases', 'Ventilators', 'Deaths'],\n",
    "    value=['Cases', 'Ventilators', 'Deaths'],\n",
    "    rows=3,\n",
    "    description='Stats:',\n",
    "    disabled=False\n",
    ")\n",
    "\n",
    "scale=wdg.RadioButtons(\n",
    "    options=['linear', 'log'],\n",
    "    description='Scale:',\n",
    "    disabled=False\n",
    ")\n",
    "\n",
    "controls=wdg.HBox([series, scale])\n",
    "\n",
    "def timeseries_graph(gcols, gscale):\n",
    "    if gscale=='linear':\n",
    "        logscale=False\n",
    "    else:\n",
    "        logscale=True\n",
    "    ncols=len(gcols)\n",
    "    if ncols>0:\n",
    "        NWdf[list(gcols)].plot(logy=logscale)\n",
    "    else:\n",
    "        print(\"Click to select data for graph\")\n",
    "        print(\"(CTRL-Click to select more than one category)\")\n",
    "\n",
    "graph=wdg.interactive_output(timeseries_graph, {'gcols': series, 'gscale': scale})\n",
    "\n",
    "display(controls, graph)"
   ]
  },
  {
   "cell_type": "markdown",
   "metadata": {},
   "source": [
    "# Age and Gender"
   ]
  },
  {
   "cell_type": "code",
   "execution_count": 8,
   "metadata": {},
   "outputs": [
    {
     "name": "stdout",
     "output_type": "stream",
     "text": [
      "London Covid-19 Cases 2020 by Age and Gender\n"
     ]
    },
    {
     "data": {
      "application/vnd.jupyter.widget-view+json": {
       "model_id": "838391e65dee435280f55b66984f6155",
       "version_major": 2,
       "version_minor": 0
      },
      "text/plain": [
       "SelectMultiple(description='Gender', index=(0, 1), options=('Males', 'Females', 'Total'), rows=3, value=('Male…"
      ]
     },
     "metadata": {},
     "output_type": "display_data"
    },
    {
     "data": {
      "application/vnd.jupyter.widget-view+json": {
       "model_id": "72f591e190a14aadac174234e8849499",
       "version_major": 2,
       "version_minor": 0
      },
      "text/plain": [
       "Output()"
      ]
     },
     "metadata": {},
     "output_type": "display_data"
    }
   ],
   "source": [
    "#LONDON\n",
    "import pandas as pd\n",
    "import matplotlib.pyplot as plt\n",
    "import json\n",
    "%matplotlib inline\n",
    "plt.rcParams['figure.dpi'] = 100\n",
    "\n",
    "# open age data file to read\n",
    "with open(\"LDNage.json\", \"rt\") as INFILE:\n",
    "    data=json.load(INFILE)\n",
    "    \n",
    "# create a dictionary for the data\n",
    "datadic=data['data'][0] # data['data'] is a list\n",
    "\n",
    "datalist=data['data']\n",
    "\n",
    "Males=datadic['Males']\n",
    "Females=datadic['Females']\n",
    "\n",
    "# focusing only on Males to create age ranges as they have the same as Females\n",
    "ageranges=[x['age'] for x in Males]\n",
    "\n",
    "# definining age at which categories begin e.g. min_age of '85_to_90' = 85\n",
    "def min_age(agerange):\n",
    "    agerange=agerange.replace('+','') # remove the + from 90+\n",
    "    start=agerange.split('_')[0]\n",
    "    return int(start)\n",
    "\n",
    "# sort age ranges into order\n",
    "ageranges.sort(key=min_age)\n",
    "\n",
    "ageLDN_df=pd.DataFrame(index=ageranges, columns=['Males','Females', 'Total'])\n",
    "\n",
    "for entry in Males: # each entry is a dictionary\n",
    "    ageband=entry['age'] # our index position\n",
    "    ageLDN_df.loc[ageband, 'Males']=entry['value']\n",
    "    \n",
    "for entry in Females:\n",
    "    ageband=entry['age']\n",
    "    ageLDN_df.loc[ageband, 'Females']=entry['value']\n",
    "    \n",
    "# total option\n",
    "ageLDN_df['Total']=ageLDN_df['Males']+ageLDN_df['Females']\n",
    "\n",
    "# ageLDN_df produces data in table form\n",
    "\n",
    "print(\"London Covid-19 Cases 2020 by Age and Gender\")\n",
    "\n",
    "agecols=wdg.SelectMultiple(\n",
    "    options=['Males', 'Females', 'Total'], \n",
    "    value=['Males', 'Females'],\n",
    "    rows=3, # rows of the selection box\n",
    "    description='Gender',\n",
    "    disabled=False\n",
    ")\n",
    "\n",
    "def age_graph(graphcolumns):\n",
    "    # our callback function.\n",
    "    ncols=len(graphcolumns)\n",
    "    if ncols>0:\n",
    "        ageLDN_df.plot(kind='bar', y=list(graphcolumns)) \n",
    "    else:\n",
    "        # if the user has not selected any column, print a message instead\n",
    "        print(\"Select data for graph above\")\n",
    "        print(\"(CTRL-Click or highlight with cursor to select multiple categories)\")\n",
    "    \n",
    "# keep calling age_graph(graphcolumns=value_of_agecols); capture output in variable output    \n",
    "output=wdg.interactive_output(age_graph, {'graphcolumns': agecols})\n",
    "\n",
    "display(agecols, output)"
   ]
  },
  {
   "cell_type": "code",
   "execution_count": null,
   "metadata": {},
   "outputs": [],
   "source": []
  },
  {
   "cell_type": "code",
   "execution_count": 9,
   "metadata": {},
   "outputs": [
    {
     "name": "stdout",
     "output_type": "stream",
     "text": [
      "North West Covid-19 Cases 2020 by Age and Gender\n"
     ]
    },
    {
     "data": {
      "application/vnd.jupyter.widget-view+json": {
       "model_id": "5b11615e99644c52925383fac32f34e1",
       "version_major": 2,
       "version_minor": 0
      },
      "text/plain": [
       "SelectMultiple(description='Gender', index=(0, 1), options=('Males', 'Females', 'Total'), rows=3, value=('Male…"
      ]
     },
     "metadata": {},
     "output_type": "display_data"
    },
    {
     "data": {
      "application/vnd.jupyter.widget-view+json": {
       "model_id": "11479293c22347088a172ccec48ee153",
       "version_major": 2,
       "version_minor": 0
      },
      "text/plain": [
       "Output()"
      ]
     },
     "metadata": {},
     "output_type": "display_data"
    }
   ],
   "source": [
    "#NW\n",
    "import pandas as pd\n",
    "import matplotlib.pyplot as plt\n",
    "import json\n",
    "%matplotlib inline\n",
    "plt.rcParams['figure.dpi'] = 100\n",
    "\n",
    "# open age data file to read\n",
    "with open(\"NWage.json\", \"rt\") as INFILE:\n",
    "    data=json.load(INFILE)\n",
    "    \n",
    "# create a dictionary for the data\n",
    "datadic=data['data'][0] # data['data'] is a list\n",
    "\n",
    "datalist=data['data']\n",
    "\n",
    "Males=datadic['Males']\n",
    "Females=datadic['Females']\n",
    "\n",
    "# focusing only on Males to create age ranges as they have the same as Females\n",
    "ageranges=[x['age'] for x in Males]\n",
    "\n",
    "# definining age at which categories begin e.g. min_age of '85_to_90' = 85\n",
    "def min_age(agerange):\n",
    "    agerange=agerange.replace('+','') # remove the + from 90+\n",
    "    start=agerange.split('_')[0]\n",
    "    return int(start)\n",
    "\n",
    "# sort age ranges into order\n",
    "ageranges.sort(key=min_age)\n",
    "\n",
    "ageNW_df=pd.DataFrame(index=ageranges, columns=['Males','Females', 'Total'])\n",
    "\n",
    "for entry in Males: # each entry is a dictionary\n",
    "    ageband=entry['age'] # our index position\n",
    "    ageNW_df.loc[ageband, 'Males']=entry['value']\n",
    "    \n",
    "for entry in Females:\n",
    "    ageband=entry['age']\n",
    "    ageNW_df.loc[ageband, 'Females']=entry['value']\n",
    "    \n",
    "# total option\n",
    "ageNW_df['Total']=ageNW_df['Males']+ageNW_df['Females']\n",
    "\n",
    "# ageLDN_df produces data in table form\n",
    "\n",
    "print(\"North West Covid-19 Cases 2020 by Age and Gender\")\n",
    "\n",
    "agecols=wdg.SelectMultiple(\n",
    "    options=['Males', 'Females', 'Total'], \n",
    "    value=['Males', 'Females'],\n",
    "    rows=3, # rows of the selection box\n",
    "    description='Gender',\n",
    "    disabled=False\n",
    ")\n",
    "\n",
    "def age_graph(graphcolumns):\n",
    "    # our callback function.\n",
    "    ncols=len(graphcolumns)\n",
    "    if ncols>0:\n",
    "        ageNW_df.plot(kind='bar', y=list(graphcolumns)) \n",
    "    else:\n",
    "        # if the user has not selected any column, print a message instead\n",
    "        print(\"Select data for graph above\")\n",
    "        print(\"(CTRL-Click or highlight with cursor to select multiple categories)\")\n",
    "    \n",
    "# keep calling age_graph(graphcolumns=value_of_agecols); capture output in variable output    \n",
    "output=wdg.interactive_output(age_graph, {'graphcolumns': agecols})\n",
    "\n",
    "display(agecols, output)"
   ]
  },
  {
   "cell_type": "code",
   "execution_count": 10,
   "metadata": {},
   "outputs": [
    {
     "name": "stdout",
     "output_type": "stream",
     "text": [
      "Direct comparison between Male and Female\n"
     ]
    }
   ],
   "source": [
    "print(\"Direct comparison between Male and Female:\")"
   ]
  },
  {
   "cell_type": "code",
   "execution_count": 11,
   "metadata": {},
   "outputs": [
    {
     "name": "stdout",
     "output_type": "stream",
     "text": [
      "London\n",
      "Male cases:  38796\n",
      "Female cases:  40274\n"
     ]
    }
   ],
   "source": [
    "# data manipulation to create pie chart\n",
    "MALETOTALDN = sum(ageLDN_df['Males'])\n",
    "print(\"London\")\n",
    "print(\"Male cases: \", MALETOTALDN)\n",
    "FEMALETOTALDN =sum(ageLDN_df['Females'])\n",
    "print(\"Female cases: \", FEMALETOTALDN)"
   ]
  },
  {
   "cell_type": "code",
   "execution_count": null,
   "metadata": {},
   "outputs": [],
   "source": [
    "# create pie chart LDN\n",
    "\n",
    "import matplotlib.pyplot as plt\n",
    "\n",
    "labels = 'Males', 'Females'\n",
    "sizes = [MALETOTALDN,FEMALETOTALDN]\n",
    "explode = (0, 0.1)  # explode one slice\n",
    "\n",
    "fig1, ax1 = plt.subplots()\n",
    "ax1.pie(sizes, explode=explode, labels=labels, autopct='%1.1f%%',\n",
    "        shadow=True, startangle=90)\n",
    "ax1.axis('equal')  # Equal aspect ratio ensures that pie is drawn as a circle.\n",
    "plt.title(\"London Covid-19 Cases 2020 by Gender\")\n",
    "plt.show()"
   ]
  },
  {
   "cell_type": "code",
   "execution_count": 13,
   "metadata": {},
   "outputs": [
    {
     "name": "stdout",
     "output_type": "stream",
     "text": [
      "North West\n",
      "Male cases:  78104\n",
      "Female cases:  93008\n"
     ]
    }
   ],
   "source": [
    "# data manipulation to create pie chart\n",
    "MALETOTAL = sum(ageNW_df['Males'])\n",
    "print(\"North West\")\n",
    "print(\"Male cases: \",MALETOTAL)\n",
    "FEMALETOTAL =sum(ageNW_df['Females'])\n",
    "print(\"Female cases: \",FEMALETOTAL)"
   ]
  },
  {
   "cell_type": "code",
   "execution_count": 14,
   "metadata": {},
   "outputs": [
    {
     "data": {
      "image/png": "[encoded data removed]",
      "text/plain": [
       "<Figure size 600x400 with 1 Axes>"
      ]
     },
     "metadata": {},
     "output_type": "display_data"
    }
   ],
   "source": [
    "# create pie chart NW\n",
    "\n",
    "import matplotlib.pyplot as plt\n",
    "\n",
    "labels = 'Males', 'Females'\n",
    "sizes = [MALETOTAL,FEMALETOTAL]\n",
    "explode = (0, 0.1)  # explode one slide\n",
    "\n",
    "fig1, ax1 = plt.subplots()\n",
    "ax1.pie(sizes, explode=explode, labels=labels, autopct='%1.1f%%',\n",
    "        shadow=True, startangle=90)\n",
    "ax1.axis('equal')  # Equal aspect ratio ensures that pie is drawn as a circle.\n",
    "plt.title(\"North West Covid-19 Cases 2020 by Gender\")\n",
    "plt.show()"
   ]
  },
  {
   "cell_type": "code",
   "execution_count": null,
   "metadata": {},
   "outputs": [],
   "source": []
  }
 ],
 "metadata": {
  "kernelspec": {
   "display_name": "Python 3",
   "language": "python",
   "name": "python3"
  },
  "language_info": {
   "codemirror_mode": {
    "name": "ipython",
    "version": 3
   },
   "file_extension": ".py",
   "mimetype": "text/x-python",
   "name": "python",
   "nbconvert_exporter": "python",
   "pygments_lexer": "ipython3",
   "version": "3.8.3"
  }
 },
 "nbformat": 4,
 "nbformat_minor": 4
}
